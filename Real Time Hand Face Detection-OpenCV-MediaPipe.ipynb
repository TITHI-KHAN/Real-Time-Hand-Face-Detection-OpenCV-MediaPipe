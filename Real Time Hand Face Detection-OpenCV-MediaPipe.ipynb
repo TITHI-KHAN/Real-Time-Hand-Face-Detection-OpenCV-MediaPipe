{
 "cells": [
  {
   "cell_type": "code",
   "execution_count": null,
   "id": "369e95e1-07b7-46a4-b6da-7db0138b4792",
   "metadata": {},
   "outputs": [],
   "source": [
    "import cv2\n",
    "import mediapipe as mp\n",
    "import time\n",
    "\n",
    "mp_drawing = mp.solutions.drawing_utils\n",
    "mp_hands = mp.solutions.hands\n",
    "mp_face_mesh = mp.solutions.face_mesh\n",
    "\n",
    "cap = cv2.VideoCapture(0)\n",
    "\n",
    "with mp_hands.Hands(min_detection_confidence=0.5, min_tracking_confidence=0.5) as hands, mp_face_mesh.FaceMesh(\n",
    "        min_detection_confidence=0.5, min_tracking_confidence=0.5) as face_mesh:\n",
    "    while True:\n",
    "        ret, frame = cap.read()\n",
    "        if not ret:\n",
    "            break\n",
    "\n",
    "        frame = cv2.flip(frame, 1)\n",
    "        height, width, _ = frame.shape\n",
    "\n",
    "        # Convert the BGR image to RGB\n",
    "        frame_rgb = cv2.cvtColor(frame, cv2.COLOR_BGR2RGB)\n",
    "        frame_rgb.flags.writeable = False\n",
    "\n",
    "        # Get hand landmarks\n",
    "        results = hands.process(frame_rgb)\n",
    "\n",
    "        # Recolor image back to BGR for drawing hand landmarks\n",
    "        frame_rgb.flags.writeable = True\n",
    "        if results.multi_hand_landmarks:\n",
    "            for hand_landmarks in results.multi_hand_landmarks:\n",
    "                mp_drawing.draw_landmarks(\n",
    "                    frame, hand_landmarks, mp_hands.HAND_CONNECTIONS)\n",
    "\n",
    "        # Get face landmarks\n",
    "        face_results = face_mesh.process(frame_rgb)\n",
    "\n",
    "        # Recolor image back to BGR for drawing face landmarks\n",
    "        frame_rgb.flags.writeable = True\n",
    "        if face_results.multi_face_landmarks:\n",
    "            for face_landmarks in face_results.multi_face_landmarks:\n",
    "                mp_drawing.draw_landmarks(\n",
    "                    frame, face_landmarks, mp_face_mesh.FACEMESH_TESSELATION)\n",
    "\n",
    "        cv2.imshow('Hand Gesture and Face Detection', frame)\n",
    "\n",
    "        if cv2.waitKey(10) & 0xFF == ord('q'):\n",
    "            break\n",
    "\n",
    "cap.release()\n",
    "cv2.destroyAllWindows()"
   ]
  },
  {
   "cell_type": "code",
   "execution_count": null,
   "id": "09dde821-879a-4294-93ab-dc61b27b989c",
   "metadata": {},
   "outputs": [],
   "source": []
  }
 ],
 "metadata": {
  "kernelspec": {
   "display_name": "Python 3 (ipykernel)",
   "language": "python",
   "name": "python3"
  },
  "language_info": {
   "codemirror_mode": {
    "name": "ipython",
    "version": 3
   },
   "file_extension": ".py",
   "mimetype": "text/x-python",
   "name": "python",
   "nbconvert_exporter": "python",
   "pygments_lexer": "ipython3",
   "version": "3.11.7"
  }
 },
 "nbformat": 4,
 "nbformat_minor": 5
}
